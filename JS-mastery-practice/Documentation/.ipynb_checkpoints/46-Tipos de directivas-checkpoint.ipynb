{
 "cells": [
  {
   "cell_type": "markdown",
   "id": "651a6ab0-5951-4a2a-b3f0-0353de4a51c5",
   "metadata": {},
   "source": [
    "# Directivas en Angular: ngIf, ngFor, y ngSwitch\n",
    "\n",
    "## 1. Directiva ngIf\n",
    "\n",
    "- Sirve para mostrar o esconder un elemento dependiendo de una condición.\n",
    "- Ejemplo:\n",
    "\n",
    "        <p *ngIf=\"mostrarTexto\">¡Hola, Angular!</p>\n",
    "\n",
    "- Explicación:\n",
    "- Si la variable mostrarTexto es true, el texto ¡Hola, Angular! se mostrará.\n",
    "- Si es false, el párrafo no aparece.\n",
    "  \n",
    "## 2. Directiva ngFor\n",
    "\n",
    "- Se usa para hacer un bucle y mostrar una lista de elementos.\n",
    "- Ejemplo:\n",
    "- \n",
    "\n",
    "        <ul>\n",
    "          <li *ngFor=\"let fruta of frutas\">\n",
    "            {{ fruta }}\n",
    "          </li>\n",
    "        </ul>\n",
    "  \n",
    "- Explicación:\n",
    "- frutas es una lista (por ejemplo: ['Manzana', 'Banana', 'Naranja']).\n",
    "- La directiva ngFor genera un <li> por cada elemento en la lista:\n",
    "- Resultado:\n",
    "\n",
    "        - Manzana\n",
    "        - Banana\n",
    "        - Naranja\n",
    "  \n",
    "## 3. Directiva ngSwitch\n",
    "\n",
    "- Se usa para mostrar contenido basado en diferentes casos (como un switch en programación).\n",
    "- Ejemplo:\n",
    "\n",
    "        <div [ngSwitch]=\"color\">\n",
    "          <p *ngSwitchCase=\"'rojo'\">Es rojo</p>\n",
    "          <p *ngSwitchCase=\"'azul'\">Es azul</p>\n",
    "          <p *ngSwitchDefault>Color no reconocido</p>\n",
    "        </div>\n",
    "\n",
    "  \n",
    "- Explicación:\n",
    "        - La variable color decide qué texto se muestra:\n",
    "        - Si color = 'rojo', se muestra Es rojo.\n",
    "        - Si color = 'azul', se muestra Es azul.\n",
    "        - Si no coincide con ningún caso, se muestra Color no reconocido.\n",
    "\n",
    "- Resumen rápido:\n",
    "    - ngIf: Muestra algo si se cumple una condición.\n",
    "    - ngFor: Repite algo para cada elemento de una lista.\n",
    "    - ngSwitch: Muestra algo dependiendo de un caso específico.\n"
   ]
  }
 ],
 "metadata": {
  "kernelspec": {
   "display_name": "Python 3 (ipykernel)",
   "language": "python",
   "name": "python3"
  },
  "language_info": {
   "codemirror_mode": {
    "name": "ipython",
    "version": 3
   },
   "file_extension": ".py",
   "mimetype": "text/x-python",
   "name": "python",
   "nbconvert_exporter": "python",
   "pygments_lexer": "ipython3",
   "version": "3.11.9"
  }
 },
 "nbformat": 4,
 "nbformat_minor": 5
}
