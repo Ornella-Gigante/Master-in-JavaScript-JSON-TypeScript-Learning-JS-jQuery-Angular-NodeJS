{
 "cells": [
  {
   "cell_type": "markdown",
   "id": "5f5dd9d2-c112-4a1c-a0fd-3a61e1d91127",
   "metadata": {},
   "source": [
    "# ¿Qué es Node.js y para qué sirve?\n",
    "\n",
    "Node.js es un entorno de ejecución de JavaScript de código abierto, multiplataforma y basado en el motor V8 de Google Chrome. \n",
    "Fue creado en 2009 por Ryan Dahl con el objetivo de permitir que JavaScript, originalmente diseñado para ejecutarse solo en navegadores, pudiera ejecutarse también en el lado del servidor.\n",
    "Esto lo convierte en una herramienta clave para construir aplicaciones completas con un solo lenguaje de programación: JavaScript.\n",
    "\n",
    "\n",
    "## Características principales de Node.js\n",
    "\n",
    "- Asincronía y no bloqueo: Node.js utiliza un modelo de entrada/salida (E/S) no bloqueante y basado en eventos, lo que lo hace altamente eficiente para manejar múltiples solicitudes simultáneamente sin bloquear el hilo principal.\n",
    "- Un solo hilo: Funciona con un único hilo que utiliza un bucle de eventos para gestionar tareas concurrentes, lo que reduce la sobrecarga del sistema.\n",
    "- Escalabilidad: Diseñado para crear aplicaciones escalables, puede manejar miles de conexiones simultáneamente.\n",
    "- Velocidad: Está construido sobre el motor V8, lo que le permite ejecutar código JavaScript rápidamente.\n",
    "- Multiplataforma: Funciona en sistemas operativos como Windows, macOS y Linux.\n",
    "\n",
    "\n",
    "## ¿Para qué sirve Node.js?\n",
    "\n",
    "Node.js es ideal para desarrollar aplicaciones del lado del servidor y otras herramientas. \n",
    "Algunos de sus usos más comunes incluyen:\n",
    "\n",
    "- Aplicaciones en tiempo real: Chats, juegos en línea o herramientas colaborativas donde la comunicación bidireccional es esencial.\n",
    "- APIs REST: Creación de servicios web para manejar datos entre clientes y servidores.\n",
    "- Streaming de datos: Procesamiento eficiente de datos en tiempo real, como transmisiones multimedia.\n",
    "- Aplicaciones basadas en JSON: Ideal para trabajar con APIs que usan este formato.\n",
    "- Automatización: Herramientas como scripts CLI (interfaz de línea de comandos) o automatización de tareas.\n",
    "- Microservicios: Facilita la creación y gestión modular de aplicaciones complejas.\n",
    "  \n",
    "## ¿Cómo funciona Node.js?\n",
    "\n",
    "Node.js utiliza un modelo basado en eventos. \n",
    "Cuando recibe una solicitud:\n",
    "\n",
    "- La envía a un \"worker thread\" (hilo trabajador) si requiere procesamiento intensivo.\n",
    "- Mientras tanto, sigue gestionando otras solicitudes sin bloquearse.\n",
    "- Cuando la tarea está lista, el sistema devuelve los resultados mediante un evento.\n",
    "\n",
    "Este enfoque permite a Node.js manejar grandes volúmenes de tráfico sin consumir demasiados recursos del sistema.\n",
    "\n",
    "## Ventajas clave\n",
    "\n",
    "- Permite a los desarrolladores usar JavaScript tanto en el frontend como en el backend (desarrollo full stack).\n",
    "- Tiene una amplia comunidad y un ecosistema robusto gracias a npm (Node Package Manager), que ofrece miles de paquetes reutilizables.\n",
    "- Es ideal para proyectos que requieren alta velocidad y escalabilidad."
   ]
  }
 ],
 "metadata": {
  "kernelspec": {
   "display_name": "Python 3 (ipykernel)",
   "language": "python",
   "name": "python3"
  },
  "language_info": {
   "codemirror_mode": {
    "name": "ipython",
    "version": 3
   },
   "file_extension": ".py",
   "mimetype": "text/x-python",
   "name": "python",
   "nbconvert_exporter": "python",
   "pygments_lexer": "ipython3",
   "version": "3.11.9"
  }
 },
 "nbformat": 4,
 "nbformat_minor": 5
}
