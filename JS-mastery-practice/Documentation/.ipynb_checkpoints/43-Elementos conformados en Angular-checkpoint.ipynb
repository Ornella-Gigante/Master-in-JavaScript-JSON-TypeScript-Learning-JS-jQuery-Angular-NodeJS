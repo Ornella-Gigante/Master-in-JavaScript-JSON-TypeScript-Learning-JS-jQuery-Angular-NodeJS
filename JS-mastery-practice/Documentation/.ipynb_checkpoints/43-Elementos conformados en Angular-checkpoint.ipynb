{
 "cells": [
  {
   "cell_type": "markdown",
   "id": "ba8002b2-4571-4d9c-b904-7aebdd917b55",
   "metadata": {},
   "source": [
    "# Elementos Conformados en Angular\n",
    "\n",
    "- Angular es un framework completo para construir aplicaciones web.\n",
    "- Está compuesto por varios elementos clave que trabajan juntos para crear una aplicación de manera estructurada y eficiente.\n",
    "\n",
    "\n",
    "# Principales elemementos de Angular \n",
    "\n",
    "1. **Módulos (Modules)**\n",
    "- ¿Qué son?: Son la unidad básica de organización en Angular. Agrupan componentes, directivas, pipes y servicios relacionados.\n",
    "- ¿Para qué sirven?: Ayudan a organizar y estructurar la aplicación en partes reutilizables. Cada aplicación Angular tiene al menos un módulo: el AppModule.\n",
    "2. **Componentes (Components)**\n",
    "- ¿Qué son?: Son las piezas fundamentales de la interfaz de usuario (UI). Un componente contiene el HTML, el CSS y el TypeScript que define cómo se comporta y se ve una sección de la UI.\n",
    "- ¿Para qué sirven?: Los componentes permiten dividir la aplicación en pequeñas partes reutilizables y gestionables. Cada componente tiene una lógica y vista específica.\n",
    "3. **Plantillas (Templates)**\n",
    "- ¿Qué son?: Son los archivos HTML asociados a un componente. Definen la estructura de la vista del componente.\n",
    "- ¿Para qué sirven?: Los templates se usan para mostrar datos dinámicos y manejar la interacción del usuario con la UI.\n",
    "4.**Directivas (Directives)** \n",
    "- ¿Qué son?: Son clases que permiten modificar el comportamiento de los elementos del DOM (Document Object Model).\n",
    "- ¿Para qué sirven?: Permiten cambiar la apariencia, el estilo o el comportamiento de los elementos del DOM de manera declarativa.\n",
    "- Ejemplos: ngIf, ngFor.\n",
    "5. **Pipes**\n",
    "- ¿Qué son?: Son funciones que transforman los datos en las vistas de manera sencilla.\n",
    "- ¿Para qué sirven?: Se usan para modificar o transformar los valores antes de mostrarlos en la UI, como cambiar el formato de una fecha o convertir texto a mayúsculas.\n",
    "- Ejemplo: {{ fecha | date:'short' }}.\n",
    "6. **Servicios (Services)**\n",
    "- ¿Qué son?: Son clases que contienen la lógica de negocio de la aplicación. Generalmente se usan para manejar datos o funcionalidades que necesitan ser compartidas entre diferentes componentes.\n",
    "- ¿Para qué sirven?: Los servicios son ideales para manejar tareas como hacer solicitudes HTTP, almacenar datos de manera global o realizar cálculos complejos.\n",
    "7. **Inyección de Dependencias (Dependency Injection)**\n",
    "- ¿Qué es?: Es un patrón que Angular utiliza para proporcionar objetos o servicios a otros componentes o servicios.\n",
    "- ¿Para qué sirve?: Permite gestionar y reutilizar servicios de manera eficiente sin tener que crear instancias manualmente. Angular se encarga de gestionar las dependencias.\n",
    "8. **Rutas (Routing)**\n",
    "- ¿Qué son?: El sistema de enrutamiento en Angular permite navegar entre diferentes vistas o componentes dentro de la aplicación.\n",
    "- ¿Para qué sirve?: Facilita la navegación y la gestión de las URL, permitiendo que el usuario cambie de vista sin recargar toda la página.\n",
    "9. **Observables**\n",
    "- ¿Qué son?: Son una forma de manejar datos asíncronos(dato que llega en el futuro, mientras el programa sigue funcionando sin esperar a que llegue). Los observables permiten suscribirse a flujos de datos, como respuestas HTTP o eventos de usuario.\n",
    "- ¿Para qué sirven?: Se usan para manejar datos que pueden cambiar con el tiempo o eventos asíncronos como la obtención de datos de una API.\n",
    "10. **CLI de Angular (Angular CLI)**\n",
    "- ¿Qué es?: Es una herramienta de línea de comandos que facilita la creación, construcción y gestión de proyectos Angular.\n",
    "- ¿Para qué sirve?: Ayuda a generar componentes, servicios, módulos, y más, además de realizar tareas de construcción, pruebas y despliegue de la aplicación.\n",
    "\n",
    "## Resumen\n",
    "\n",
    "- Angular está compuesto principalmente por módulos, componentes, plantillas, directivas, pipes, servicios, rutas y observables.\n",
    "- Estos elementos trabajan juntos para crear aplicaciones web de manera estructurada y eficiente.\n",
    "- La Inyección de Dependencias y el CLI de Angular son herramientas clave que facilitan el desarrollo."
   ]
  }
 ],
 "metadata": {
  "kernelspec": {
   "display_name": "Python 3 (ipykernel)",
   "language": "python",
   "name": "python3"
  },
  "language_info": {
   "codemirror_mode": {
    "name": "ipython",
    "version": 3
   },
   "file_extension": ".py",
   "mimetype": "text/x-python",
   "name": "python",
   "nbconvert_exporter": "python",
   "pygments_lexer": "ipython3",
   "version": "3.11.9"
  }
 },
 "nbformat": 4,
 "nbformat_minor": 5
}
