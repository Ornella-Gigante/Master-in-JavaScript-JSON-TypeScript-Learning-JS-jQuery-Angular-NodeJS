{
 "cells": [
  {
   "cell_type": "markdown",
   "id": "6e541772-eee6-443d-bac7-863e03c21d68",
   "metadata": {},
   "source": [
    "# Métodos `find()` y `parent()` en jQuery\n",
    "\n",
    "## `find()`\n",
    "El método `find()` se utiliza para **buscar elementos hijos** dentro de un elemento seleccionado. Es útil cuando deseas seleccionar elementos que están anidados dentro de otros elementos.\n",
    "\n",
    "### ¿Cómo funciona?\n",
    "- Toma un **selector** como argumento y devuelve todos los elementos que coinciden con ese selector que son **descendientes** del elemento seleccionado.\n",
    "\n",
    "### Ejemplo:\n",
    "        \n",
    "        // Supongamos que tenemos este HTML:\n",
    "        // <div class=\"padre\">\n",
    "        //     <p class=\"hijo\">Soy un párrafo</p>\n",
    "        //     <span class=\"hijo\">Soy un span</span>\n",
    "        // </div>\n",
    "\n",
    "// Usando find para seleccionar todos los hijos que son párrafos\n",
    "var parrafos = $('.padre').find('p');\n"
   ]
  },
  {
   "cell_type": "markdown",
   "id": "705bbea9-6989-4bbb-a668-edc0d1732f9c",
   "metadata": {},
   "source": [
    "En este ejemplo, parrafos contendrá el elemento <p> que está dentro de .padre.\n",
    "\n",
    "# parent()\n",
    "\n",
    "- El método parent() se utiliza para seleccionar el elemento padre del elemento seleccionado.\n",
    "- Es útil cuando necesitas acceder al contenedor o al elemento que está por encima del que has seleccionado.\n",
    "\n",
    "## ¿Cómo funciona?\n",
    "\n",
    "- No toma ningún argumento y devuelve el elemento padre inmediato del elemento seleccionado.\n",
    "- Ejemplo:\n",
    "\n",
    "        // Supongamos que tenemos este HTML:\n",
    "        // <div class=\"padre\">\n",
    "        //     <p class=\"hijo\">Soy un párrafo</p>\n",
    "        // </div>\n",
    "\n",
    "        // Usando parent para seleccionar el padre del párrafo\n",
    "        var padre = $('.hijo').parent();\n",
    "- En este caso, padre contendrá el elemento <div class=\"padre\">, que es el contenedor del párrafo.\n",
    "\n",
    "## Resumen\n",
    "\n",
    "- find(): Busca elementos hijos dentro del elemento seleccionado.\n",
    "- parent(): Selecciona el elemento padre inmediato del elemento seleccionado.\n",
    "- Ambos métodos son útiles para navegar y manipular el árbol DOM de manera más eficiente con jQuery.\n",
    "\n"
   ]
  }
 ],
 "metadata": {
  "kernelspec": {
   "display_name": "Python 3 (ipykernel)",
   "language": "python",
   "name": "python3"
  },
  "language_info": {
   "codemirror_mode": {
    "name": "ipython",
    "version": 3
   },
   "file_extension": ".py",
   "mimetype": "text/x-python",
   "name": "python",
   "nbconvert_exporter": "python",
   "pygments_lexer": "ipython3",
   "version": "3.11.9"
  }
 },
 "nbformat": 4,
 "nbformat_minor": 5
}
