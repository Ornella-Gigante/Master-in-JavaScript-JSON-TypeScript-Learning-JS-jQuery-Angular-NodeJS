{
 "cells": [
  {
   "cell_type": "markdown",
   "id": "7d3b5133-1c3f-4517-9875-54c23d8f3c96",
   "metadata": {},
   "source": [
    "# ¿Qué es un Selector jQuery?\n",
    "\n",
    "Un **selector jQuery** es una herramienta para identificar y seleccionar elementos dentro de una página web usando jQuery. Los selectores permiten que puedas **trabajar fácilmente con los elementos** (como `<div>`, `<p>`, `<button>`, etc.) de una página HTML y realizar acciones sobre ellos, como cambiar su contenido, aplicar estilos, o capturar eventos.\n",
    "\n",
    "### ¿Cómo funcionan?\n",
    "\n",
    "- Los selectores jQuery usan una sintaxis muy similar a la de **CSS** para identificar elementos, lo que hace que sean fáciles de entender y utilizar.\n",
    "- En jQuery, los selectores siempre empiezan con el símbolo **$** seguido de paréntesis, donde va el selector, por ejemplo: \n",
    "        \n",
    "        $('selector')\n",
    "        \n",
    "## Ejemplos Comunes de Selectores jQuery\n",
    "\n",
    "- Por etiqueta: selecciona todos los elementos de un tipo específico.\n",
    "\n",
    "\n",
    "        $('p') // Selecciona todos los párrafos (<p>)\n",
    "\n",
    "  \n",
    "- Por id: selecciona un elemento con un id específico.\n",
    "\n",
    "\n",
    "        $('#miId') // Selecciona el elemento con id=\"miId\"\n",
    "  \n",
    "- Por clase: selecciona todos los elementos con una clase específica.\n",
    "\n",
    "\n",
    "        $('.miClase') // Selecciona todos los elementos con la clase \"miClase\"\n",
    "\n",
    "- Por atributo: selecciona elementos con un atributo específico.\n",
    "        \n",
    "        $('input[type=\"text\"]') // Selecciona todos los <input> que tienen type=\"text\"\n",
    "\n",
    "## ¿Para qué sirven?\n",
    "\n",
    "- Los selectores son útiles porque nos permiten:\n",
    "\n",
    "- Manipular el contenido o estilo de un elemento.\n",
    "- Agregar o eliminar elementos.\n",
    "- Escuchar y manejar eventos como clics, desplazamientos y más.\n",
    "- En resumen, un selector jQuery es una manera rápida y fácil de elegir uno o varios elementos en una página web para luego trabajar con ellos usando la sintaxis simplificada de jQuery."
   ]
  }
 ],
 "metadata": {
  "kernelspec": {
   "display_name": "Python 3 (ipykernel)",
   "language": "python",
   "name": "python3"
  },
  "language_info": {
   "codemirror_mode": {
    "name": "ipython",
    "version": 3
   },
   "file_extension": ".py",
   "mimetype": "text/x-python",
   "name": "python",
   "nbconvert_exporter": "python",
   "pygments_lexer": "ipython3",
   "version": "3.11.9"
  }
 },
 "nbformat": 4,
 "nbformat_minor": 5
}
