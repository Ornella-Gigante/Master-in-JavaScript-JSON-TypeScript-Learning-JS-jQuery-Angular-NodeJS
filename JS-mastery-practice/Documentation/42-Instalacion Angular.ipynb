{
 "cells": [
  {
   "cell_type": "markdown",
   "id": "b9fa6f5e-56c6-404d-b018-2367ff99b90b",
   "metadata": {},
   "source": [
    "# Pasos para instalar Angular CLI en Ubuntu:\n",
    "\n",
    "## Actualizar paquetes del sistema:\n",
    "\n",
    "        \n",
    "        sudo apt update && sudo apt upgrade\n",
    "\n",
    "## Instalar Node.js y npm: Si no los tienes instalados, hazlo con este comando:\n",
    "\n",
    "\n",
    "        sudo apt install nodejs npm\n",
    "        \n",
    "## Verificar instalación de Node.js y npm: Asegúrate de que están correctamente instalados:\n",
    "\n",
    "        \n",
    "        node -v\n",
    "        npm -v\n",
    "\n",
    "## Instalar Angular CLI globalmente: Usa npm para instalar Angular CLI:\n",
    "\n",
    "        sudo npm install -g @angular/cli\n",
    "\n",
    "        \n",
    "## Verificar la instalación de Angular CLI: Asegúrate de que Angular CLI está instalado correctamente:\n",
    "\n",
    "        ng version"
   ]
  },
  {
   "cell_type": "markdown",
   "id": "dc38b7f4-619a-4ac4-a7cd-48e8e36fb117",
   "metadata": {},
   "source": [
    "# Pagina Web Oficial de Angular Cli \n",
    "\n",
    "- https://angular.dev/tools/cli/setup-local"
   ]
  }
 ],
 "metadata": {
  "kernelspec": {
   "display_name": "Python 3 (ipykernel)",
   "language": "python",
   "name": "python3"
  },
  "language_info": {
   "codemirror_mode": {
    "name": "ipython",
    "version": 3
   },
   "file_extension": ".py",
   "mimetype": "text/x-python",
   "name": "python",
   "nbconvert_exporter": "python",
   "pygments_lexer": "ipython3",
   "version": "3.11.9"
  }
 },
 "nbformat": 4,
 "nbformat_minor": 5
}
