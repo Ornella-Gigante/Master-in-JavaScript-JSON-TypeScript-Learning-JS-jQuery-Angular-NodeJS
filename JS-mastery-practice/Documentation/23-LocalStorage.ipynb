{
 "cells": [
  {
   "cell_type": "markdown",
   "id": "871f7d8b-e191-4102-8d03-ca8a2bff9b37",
   "metadata": {},
   "source": [
    "# LocalStorage \n",
    "\n",
    "En JavaScript, el localStorage es como una \"cajita\" en el navegador donde puedes guardar datos que quieras recordar, incluso si cierras la página o el navegador.\n",
    "\n",
    "Imagina que quieres recordar el nombre de un usuario o sus preferencias (como el idioma que eligió). En vez de pedirle cada vez que vuelve a entrar, puedes guardar esos datos en el localStorage. Así, la próxima vez que el usuario abra la página, podrás leer esa \"cajita\" y recuperar la información guardada.\n",
    "\n",
    "## Ejemplo sencillo:\n",
    "\n",
    "- Guardar datos:\n",
    "\n",
    "        \n",
    "        localStorage.setItem(\"nombreUsuario\", \"Juan\");\n",
    "        Esto guarda el nombre \"Juan\" con una etiqueta llamada \"nombreUsuario\".\n",
    "\n",
    "- Leer datos:\n",
    "\n",
    "\n",
    "        let nombre = localStorage.getItem(\"nombreUsuario\");\n",
    "        console.log(nombre); // Muestra \"Juan\" en la consola\n",
    "  \n",
    "- Eliminar datos:\n",
    "\n",
    "\n",
    "        localStorage.removeItem(\"nombreUsuario\");\n",
    "\n",
    "## Características clave:\n",
    "\n",
    "- Persistente: La información se queda guardada hasta que el usuario la borre o se limpie la memoria del navegador.\n",
    "- Solo texto: Solo puedes guardar datos en formato de texto. Para objetos, necesitas convertirlos en texto usando JSON.stringify() al guardar y JSON.parse() al leer.\n",
    "- En resumen, localStorage es útil para guardar datos pequeños y sencillos que quieres recordar entre visitas de un mismo usuario en el navegador."
   ]
  }
 ],
 "metadata": {
  "kernelspec": {
   "display_name": "Python 3 (ipykernel)",
   "language": "python",
   "name": "python3"
  },
  "language_info": {
   "codemirror_mode": {
    "name": "ipython",
    "version": 3
   },
   "file_extension": ".py",
   "mimetype": "text/x-python",
   "name": "python",
   "nbconvert_exporter": "python",
   "pygments_lexer": "ipython3",
   "version": "3.11.9"
  }
 },
 "nbformat": 4,
 "nbformat_minor": 5
}
