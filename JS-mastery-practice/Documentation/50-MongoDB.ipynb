{
 "cells": [
  {
   "cell_type": "markdown",
   "id": "ab788ea7-063e-4071-bcad-0998c1667b56",
   "metadata": {},
   "source": [
    "# ¿Qué es MongoDB?\n",
    "\n",
    "MongoDB es una base de datos NoSQL orientada a documentos, diseñada para almacenar grandes volúmenes de datos no estructurados o semiestructurados. A diferencia de las bases de datos relacionales que utilizan tablas, MongoDB almacena los datos en documentos BSON (similar a JSON), agrupados en colecciones. Esto permite una mayor flexibilidad y escalabilidad, lo que la hace ideal para aplicaciones modernas que manejan datos dinámicos137.\n",
    "\n",
    "## Características principales de MongoDB\n",
    "\n",
    "- Esquema flexible: No requiere un esquema fijo, permitiendo cambios dinámicos en la estructura de los datos.\n",
    "- Escalabilidad horizontal: Soporta el aumento de capacidad al agregar más servidores.\n",
    "- Consultas avanzadas: Permite búsquedas por rangos, expresiones regulares y consultas ad hoc.\n",
    "- Replicación y alta disponibilidad: Utiliza conjuntos de réplicas para garantizar la redundancia y recuperación ante fallos.\n",
    "- Agregación y análisis de datos: Incluye un framework para realizar operaciones complejas como \"GROUP BY\" en SQL.\n",
    "- Compatibilidad con JavaScript: Permite ejecutar consultas directamente en este lenguaje135.\n",
    "\n",
    "\n",
    "## Diferencias entre SQL y NoSQL\n",
    "\n",
    "| **Aspecto**              | **SQL (Relacional)**                                                                                     | **NoSQL (No Relacional)**                                                                 |\n",
    "|--------------------------|---------------------------------------------------------------------------------------------------------|------------------------------------------------------------------------------------------|\n",
    "| **Modelo de datos**       | Tablas con filas y columnas (estructurado).                                                            | Documentos, clave-valor, grafos o columnas (flexible).                                   |\n",
    "| **Estructura del esquema**| Esquema rígido y predefinido.                                                                          | Esquema dinámico o sin esquema.                                                         |\n",
    "| **Escalabilidad**         | Escalado vertical (mejorar hardware del servidor).                                                     | Escalado horizontal (añadir más servidores).                                            |\n",
    "| **Relaciones entre datos**| Relaciones fuertes mediante claves primarias y foráneas.                                              | Relaciones débiles o no soportadas directamente.                                        |\n",
    "| **Velocidad de consultas**| Más rápido para operaciones complejas como JOINs.                                                     | Más rápido para grandes volúmenes de datos no relacionados.                             |\n",
    "| **Consistencia**          | Garantiza transacciones ACID (Atomicidad, Consistencia, Aislamiento, Durabilidad).                     | Garantiza BASE (Básicamente Disponible, Estado Suave, Consistencia Eventual).           |\n",
    "| **Casos de uso**          | Aplicaciones financieras, ERP, CRM donde la consistencia es crucial.                                  | Big Data, IoT, redes sociales, análisis en tiempo real donde la flexibilidad es clave.  |\n",
    "\n",
    "\n",
    "## ¿Cuándo elegir SQL o NoSQL?\n",
    "\n",
    "- Usar SQL:\n",
    "  \n",
    "        Cuando los datos son estructurados y las relaciones entre ellos son importantes.\n",
    "        Si necesitas transacciones complejas con alta consistencia.\n",
    "        Ejemplo: Sistemas bancarios o aplicaciones empresariales.\n",
    "\n",
    "- Usar NoSQL:\n",
    "  \n",
    "        Cuando los datos son no estructurados o cambian constantemente.\n",
    "        Si se requiere escalabilidad horizontal para manejar grandes volúmenes de información.\n",
    "        Ejemplo: Redes sociales, análisis de Big Data o aplicaciones móviles246.\n",
    "  \n",
    "\n",
    "**MongoDB es una base de datos NoSQL ideal para proyectos que requieren flexibilidad y escalabilidad, mientras que las bases de datos SQL son más adecuadas para entornos con estructuras bien definidas y consistencia estricta. La elección depende del caso de uso específico y los requisitos del proyecto.**"
   ]
  }
 ],
 "metadata": {
  "kernelspec": {
   "display_name": "Python 3 (ipykernel)",
   "language": "python",
   "name": "python3"
  },
  "language_info": {
   "codemirror_mode": {
    "name": "ipython",
    "version": 3
   },
   "file_extension": ".py",
   "mimetype": "text/x-python",
   "name": "python",
   "nbconvert_exporter": "python",
   "pygments_lexer": "ipython3",
   "version": "3.11.9"
  }
 },
 "nbformat": 4,
 "nbformat_minor": 5
}
